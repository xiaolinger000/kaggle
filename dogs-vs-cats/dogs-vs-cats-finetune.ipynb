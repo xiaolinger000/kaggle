{
 "cells": [
  {
   "cell_type": "code",
   "execution_count": 1,
   "metadata": {},
   "outputs": [],
   "source": [
    "import torch\n",
    "import torch.nn as nn\n",
    "import torch.optim as optim\n",
    "import numpy as np\n",
    "import torchvision\n",
    "from torchvision import datasets, models, transforms\n",
    "import matplotlib.pyplot as plt\n",
    "import time\n",
    "import os\n",
    "import copy"
   ]
  },
  {
   "cell_type": "code",
   "execution_count": 6,
   "metadata": {},
   "outputs": [
    {
     "name": "stdout",
     "output_type": "stream",
     "text": [
      "torch version: 1.0.1 \n",
      "torchvision version: 0.2.1\n"
     ]
    }
   ],
   "source": [
    "print(\"torch version: {} \\ntorchvision version: {}\".format(torch.__version__, torchvision.__version__))"
   ]
  },
  {
   "cell_type": "code",
   "execution_count": 7,
   "metadata": {},
   "outputs": [],
   "source": [
    "model_names = ['resnet', 'alexnet', 'vgg', 'squeezenet', 'densenet', 'inception', 'shufflenet']"
   ]
  },
  {
   "cell_type": "code",
   "execution_count": null,
   "metadata": {},
   "outputs": [],
   "source": [
    "tran_filenames = os.listdir('data/train')\n",
    "datasetdir = os.path.join('./data')\n",
    "traindir = os.path.join(datasetdir,'train2')\n",
    "testdir = os.path.join(datasetdir,'test2')\n",
    "\n",
    "model_name = \"densenet\"\n",
    "num_classes = 2\n",
    "batch_size = 32\n",
    "epochs = 10\n",
    "feature_extract = True\n",
    "trick = False\n",
    "csv_name = \"submission-{model_name}-e{epochs}b{batch_size}-t{trick}.csv\""
   ]
  }
 ],
 "metadata": {
  "kernelspec": {
   "display_name": "Python 3",
   "language": "python",
   "name": "python3"
  },
  "language_info": {
   "codemirror_mode": {
    "name": "ipython",
    "version": 3
   },
   "file_extension": ".py",
   "mimetype": "text/x-python",
   "name": "python",
   "nbconvert_exporter": "python",
   "pygments_lexer": "ipython3",
   "version": "3.6.8"
  }
 },
 "nbformat": 4,
 "nbformat_minor": 2
}
